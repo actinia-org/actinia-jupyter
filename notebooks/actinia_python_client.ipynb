{
 "cells": [
  {
   "cell_type": "markdown",
   "id": "5bb6c352",
   "metadata": {},
   "source": [
    "![Image](actinia_logo.png)\n",
    "\n",
    "## Introduction\n",
    "\n",
    "Actinia is a REST service to process geographical data that can be\n",
    "managed by the GRASS GIS software system. The software is designed to\n",
    "expose a GRASS GIS database and many [GRASS GIS](https://grass.osgeo.org/) processing tools as a\n",
    "[REST service](https://en.wikipedia.org/wiki/Representational_State_Transfer).\n",
    "Hence, access to GRASS resources like raster maps,\n",
    "space-time raster datasets, processing and analysis modules are\n",
    "available via URL. In addition, actinia allows the cloud based processing\n",
    "of data, for example all Landsat 4-8 scenes as well as all\n",
    "Sentinel-2 scenes in an ephemeral database. The computational results\n",
    "of ephemeral processing are available via object storage as GeoTIFF/COG\n",
    "or GeoPackage files.\n",
    "\n",
    "The actinia service consists of the *[actinia core](https://github.com/actinia-org/actinia-core)*\n",
    "that provides the basic but sophisticated processing service and\n",
    "*[actinia plugins](https://github.com/orgs/mundialis/repositories?q=actinia+plugins&type=all&language=&sort=)*\n",
    "that provide problem specific services like NDVI computation from Sentinel-2\n",
    "or Landsat data, spatio-temporal statistical analysis and many more.\n",
    "\n",
    "The following example is a Jupyter Notebook which uses the \n",
    "[actinia-python-client](https://actinia-core.github.io/actinia-python-client/) ([source code](https://github.com/actinia-org/actinia-python-client)) to\n",
    "establish the connection to the actinia instance. "
   ]
  },
  {
   "cell_type": "markdown",
   "id": "a27be4ef",
   "metadata": {},
   "source": [
    "## Installation of the actinia-python-client\n",
    "\n",
    "(documentation: https://actinia-org.github.io/actinia-python-client/)"
   ]
  },
  {
   "cell_type": "markdown",
   "id": "eee0b0ab",
   "metadata": {},
   "source": [
    "First we install the actinia-python-client."
   ]
  },
  {
   "cell_type": "code",
   "execution_count": null,
   "id": "abd88e1d",
   "metadata": {},
   "outputs": [],
   "source": [
    "# install actinia-python-client\n",
    "# for latest version, see https://github.com/actinia-org/actinia-python-client/releases\n",
    "!wget -c https://github.com/actinia-org/actinia-python-client/releases/download/0.3.0/actinia_python_client-0.3.0-py3-none-any.whl\n",
    "\n",
    "!pip3 install actinia_python_client-0.3.0-py3-none-any.whl"
   ]
  },
  {
   "cell_type": "markdown",
   "id": "ae419802",
   "metadata": {},
   "source": [
    "## Helper function for printing\n",
    "\n",
    "Next we implement a helper function for \"pretty printing\" of actinia results:"
   ]
  },
  {
   "cell_type": "code",
   "execution_count": null,
   "id": "036e72c8",
   "metadata": {},
   "outputs": [],
   "source": [
    "from json import dumps as json_dumps\n",
    "\n",
    "\n",
    "def print_dict(input_dict, text=None):\n",
    "    if text:\n",
    "        print(text)\n",
    "    if \"region\" in input_dict:\n",
    "        input_dict[\"region\"] = input_dict[\"region\"].__dict__\n",
    "    print(json_dumps(input_dict, sort_keys=True, indent=4))\n",
    "\n",
    "\n",
    "def print_dict_keys(input_dict, text=None):\n",
    "    if text:\n",
    "        print(text)\n",
    "    print(\", \".join(input_dict.keys()))"
   ]
  },
  {
   "cell_type": "markdown",
   "id": "8dfaf866",
   "metadata": {},
   "source": [
    "## Connecting to the actinia instance using the actinia-python-client\n",
    "\n",
    "Now we connect this session to the default actinia server which is defined in the actinia-python-client, currently https://actinia.mundialis.de."
   ]
  },
  {
   "cell_type": "code",
   "execution_count": null,
   "id": "c625cd25",
   "metadata": {},
   "outputs": [],
   "source": [
    "# connect to default actinia server (actinia.mundialis.de)\n",
    "from actinia import Actinia\n",
    "\n",
    "actinia_mundialis = Actinia()\n",
    "\n",
    "# retrieve metadata about actinia and related software versions\n",
    "version = actinia_mundialis.get_version()\n",
    "print_dict(version, \"Version is:\")\n"
   ]
  },
  {
   "cell_type": "markdown",
   "id": "cc5e8b2f",
   "metadata": {},
   "source": [
    "Subsequently, we set the authentication settings of the actinia demo user to gain access to the\n",
    "actinia server functionality. The user and password have exist on the server."
   ]
  },
  {
   "cell_type": "code",
   "execution_count": null,
   "id": "e614d451",
   "metadata": {},
   "outputs": [],
   "source": [
    "# define user/password for connection\n",
    "actinia_mundialis.set_authentication(\"demouser\", \"gu3st!pa55w0rd\")\n",
    "print(\"Connected to actinia server.\")"
   ]
  },
  {
   "cell_type": "markdown",
   "id": "ba814a26",
   "metadata": {},
   "source": [
    "## Location Management\n",
    "\n",
    "With the location management the locations can be requested as well as\n",
    "information of each location. Also a location can be created and deleted if the user is permitted.\n",
    "\n",
    "Above, we have already connect the Jupyter notebook using the actinia Python client to\n",
    "[actinia](https://actinia.mundialis.de/) and set the authentication.\n",
    "\n",
    "Attention: The demouser is not permitted to create or delete a location!"
   ]
  },
  {
   "cell_type": "markdown",
   "id": "691eab80",
   "metadata": {},
   "source": [
    "### Retrieve the list of available locations and information about a selected location\n",
    "\n",
    "The first task is to obtain the list of locations and retrieve the metadata of a selected location."
   ]
  },
  {
   "cell_type": "code",
   "execution_count": null,
   "id": "4f6fa82a",
   "metadata": {},
   "outputs": [],
   "source": [
    "# obtain the list of locations (which are accessible to current user)\n",
    "locations = actinia_mundialis.get_locations()\n",
    "print_dict_keys(locations, \"Locations: \")"
   ]
  },
  {
   "cell_type": "markdown",
   "id": "11b32fe1",
   "metadata": {},
   "source": [
    "Retrieve the metadata of a selected location (note that there are two ways)."
   ]
  },
  {
   "cell_type": "code",
   "execution_count": null,
   "id": "cfc98e3f",
   "metadata": {},
   "outputs": [],
   "source": [
    "# way 1, using the definition from above\n",
    "print_dict(locations[\"nc_spm_08\"].get_info(), \"Location info (way 1):\")"
   ]
  },
  {
   "cell_type": "code",
   "execution_count": null,
   "id": "b89edb28",
   "metadata": {},
   "outputs": [],
   "source": [
    "# way 2, also specifying the server\n",
    "print_dict(actinia_mundialis.locations[\"nc_spm_08\"].get_info(), \"Location info (way 2):\")"
   ]
  },
  {
   "cell_type": "markdown",
   "id": "459b6f8d",
   "metadata": {},
   "source": [
    "### Creation of a new location\n",
    "\n",
    "NOTE: `new location feature not available to the \"demouser\"`!"
   ]
  },
  {
   "cell_type": "code",
   "execution_count": null,
   "id": "e6f96cce",
   "metadata": {},
   "outputs": [],
   "source": [
    "# Create a new location\n",
    "new_location = actinia_mundialis.create_location(\"test_location\", 25832)\n",
    "print(new_location.name)\n",
    "print(new_location.region)\n",
    "print_dict_keys(actinia_mundialis.locations)"
   ]
  },
  {
   "cell_type": "markdown",
   "id": "c9485123",
   "metadata": {},
   "source": [
    "### Deletion of a new location\n",
    "\n",
    "NOTE: delete location not available to the \"demouser\"."
   ]
  },
  {
   "cell_type": "code",
   "execution_count": null,
   "id": "1bf49e8c",
   "metadata": {},
   "outputs": [],
   "source": [
    "## Delete a location\n",
    "actinia_mundialis.locations[\"test_location\"].delete()\n",
    "print_dict_keys(actinia_mundialis.locations)"
   ]
  },
  {
   "cell_type": "markdown",
   "id": "2beabca8",
   "metadata": {},
   "source": [
    "## Mapset Management\n",
    "\n",
    "With the mapset management the mapsets of a specified location can be\n",
    "requested as well as information of each mapset.\n",
    "Also a mapset can be created and deleted if the user is permitted."
   ]
  },
  {
   "cell_type": "code",
   "execution_count": null,
   "id": "5354b2f9",
   "metadata": {},
   "outputs": [],
   "source": [
    "# request all locations\n",
    "locations = actinia_mundialis.get_locations()"
   ]
  },
  {
   "cell_type": "markdown",
   "id": "c5dab2b7",
   "metadata": {},
   "source": [
    "### Get mapsets of selected location\n",
    "Get mapsets of the ***nc_spm_08*** location:"
   ]
  },
  {
   "cell_type": "code",
   "execution_count": null,
   "id": "7de52b3e",
   "metadata": {},
   "outputs": [],
   "source": [
    "mapsets = actinia_mundialis.locations[\"nc_spm_08\"].get_mapsets()\n",
    "print_dict_keys(mapsets, \"Mapsets in nc_spm_08:\")"
   ]
  },
  {
   "cell_type": "markdown",
   "id": "c6442eef",
   "metadata": {},
   "source": [
    "### Create a mapset"
   ]
  },
  {
   "cell_type": "code",
   "execution_count": null,
   "id": "04c6132d",
   "metadata": {},
   "outputs": [],
   "source": [
    "mapset_name = \"test_mapset\"\n",
    "locations[\"nc_spm_08\"].create_mapset(mapset_name)\n",
    "print_dict_keys(mapsets, \"Mapsets in nc_spm_08:\")"
   ]
  },
  {
   "cell_type": "markdown",
   "id": "d34d333d",
   "metadata": {},
   "source": [
    "### Delete a mapset"
   ]
  },
  {
   "cell_type": "code",
   "execution_count": null,
   "id": "6f88bd71",
   "metadata": {},
   "outputs": [],
   "source": [
    "locations[\"nc_spm_08\"].delete_mapset(mapset_name)\n",
    "print_dict_keys(mapsets, \"Mapsets in nc_spm_08:\")"
   ]
  },
  {
   "cell_type": "markdown",
   "id": "52141583",
   "metadata": {},
   "source": [
    "## Raster and Vector Management\n",
    "\n",
    "First request the list of all locations and then show the mapsets in a specific location."
   ]
  },
  {
   "cell_type": "code",
   "execution_count": null,
   "id": "4e297af8",
   "metadata": {},
   "outputs": [],
   "source": [
    "# request all locations\n",
    "locations = actinia_mundialis.get_locations()\n",
    "# Get Mapsets of nc_spm_08 location\n",
    "mapsets = actinia_mundialis.locations[\"nc_spm_08\"].get_mapsets()\n",
    "print_dict_keys(mapsets, \"Mapsets in nc_spm_08:\")"
   ]
  },
  {
   "cell_type": "markdown",
   "id": "9a6a3a06",
   "metadata": {},
   "source": [
    "## Raster manangement\n",
    "\n",
    "Get all raster layers of the `PERMANENT` mapsets."
   ]
  },
  {
   "cell_type": "code",
   "execution_count": null,
   "id": "e653052a",
   "metadata": {},
   "outputs": [],
   "source": [
    "rasters = mapsets[\"PERMANENT\"].get_raster_layers()\n",
    "print_dict_keys(rasters, \"Raster maps:\")"
   ]
  },
  {
   "cell_type": "markdown",
   "id": "3e4e5ee7",
   "metadata": {},
   "source": [
    "Get information of the raster map `zipcodes`."
   ]
  },
  {
   "cell_type": "code",
   "execution_count": null,
   "id": "b5dd5ab5",
   "metadata": {},
   "outputs": [],
   "source": [
    "info = rasters[\"zipcodes\"].get_info()\n",
    "print_dict(info, \"Zipcodes raster info:\")"
   ]
  },
  {
   "cell_type": "markdown",
   "id": "c5ed80f7",
   "metadata": {},
   "source": [
    "Upload a GeoTIFF file as raster layer to a user mapset (we first create the user mapset)."
   ]
  },
  {
   "cell_type": "code",
   "execution_count": null,
   "id": "6c562151",
   "metadata": {},
   "outputs": [],
   "source": [
    "mapset_name = \"test_mapset\"\n",
    "\n",
    "# create mapset\n",
    "locations[\"nc_spm_08\"].create_mapset(mapset_name)\n",
    "\n",
    "# upload tif\n",
    "raster_layer_name = \"test\"\n",
    "file = \"/home/testuser/data/elevation.tif\"\n",
    "locations[\"nc_spm_08\"].mapsets[mapset_name].upload_raster(raster_layer_name, file)\n",
    "print_dict_keys(locations[\"nc_spm_08\"].mapsets[mapset_name].raster_layers, \"Raster maps in new mapset:\")"
   ]
  },
  {
   "cell_type": "markdown",
   "id": "92835aa1",
   "metadata": {},
   "source": [
    "Delete a raster layer."
   ]
  },
  {
   "cell_type": "code",
   "execution_count": null,
   "id": "87d79a86",
   "metadata": {},
   "outputs": [],
   "source": [
    "locations[\"nc_spm_08\"].mapsets[mapset_name].delete_raster(raster_layer_name)\n",
    "print_dict_keys(locations[\"nc_spm_08\"].mapsets[mapset_name].raster_layers, \"Raster maps in new mapset:\")\n",
    "\n",
    "# delete mapset\n",
    "locations[\"nc_spm_08\"].delete_mapset(mapset_name)"
   ]
  },
  {
   "cell_type": "markdown",
   "id": "268ae105",
   "metadata": {},
   "source": [
    "### Vector management\n",
    "\n",
    "Get all vector maps in the `PERMANENT` mapset."
   ]
  },
  {
   "cell_type": "code",
   "execution_count": null,
   "id": "9ea3cea2",
   "metadata": {},
   "outputs": [],
   "source": [
    "vectors = mapsets[\"PERMANENT\"].get_vector_layers()\n",
    "print_dict_keys(vectors, \"Vector maps:\")"
   ]
  },
  {
   "cell_type": "markdown",
   "id": "ef16349c",
   "metadata": {},
   "source": [
    "Get information of the vector map `boundary_county`."
   ]
  },
  {
   "cell_type": "code",
   "execution_count": null,
   "id": "6743ee52",
   "metadata": {},
   "outputs": [],
   "source": [
    "info = vectors[\"boundary_county\"].get_info()"
   ]
  },
  {
   "cell_type": "markdown",
   "id": "e7bb00ae",
   "metadata": {},
   "source": [
    "Upload a GeoJSON file as a vector layer to a user mapset (we first create the user mapset)."
   ]
  },
  {
   "cell_type": "code",
   "execution_count": null,
   "id": "041e3184",
   "metadata": {},
   "outputs": [],
   "source": [
    "# create mapset\n",
    "mapset_name = \"test_mapset\"\n",
    "locations[\"nc_spm_08\"].create_mapset(mapset_name)\n",
    "\n",
    "# upload tif\n",
    "vector_layer_name = \"test\"\n",
    "file = \"/home/testuser/data/firestations.geojson\"\n",
    "locations[\"nc_spm_08\"].mapsets[mapset_name].upload_vector(vector_layer_name, file)\n",
    "print_dict_keys(locations[\"nc_spm_08\"].mapsets[mapset_name].vector_layers, \"Vectors in new mapset:\")"
   ]
  },
  {
   "cell_type": "markdown",
   "id": "c417c7a5",
   "metadata": {},
   "source": [
    "Delete a vector layer."
   ]
  },
  {
   "cell_type": "code",
   "execution_count": null,
   "id": "8eee2165",
   "metadata": {},
   "outputs": [],
   "source": [
    "locations[\"nc_spm_08\"].mapsets[mapset_name].delete_vector(vector_layer_name)\n",
    "print_dict_keys(locations[\"nc_spm_08\"].mapsets[mapset_name].vector_layers, \"Vectors in new mapset:\")\n",
    "\n",
    "# delete mapset\n",
    "locations[\"nc_spm_08\"].delete_mapset(mapset_name)"
   ]
  },
  {
   "cell_type": "markdown",
   "id": "68b4a168",
   "metadata": {},
   "source": [
    "## Process Chain Validation\n",
    "\n",
    "A process chain can be validated before a job is started."
   ]
  },
  {
   "cell_type": "code",
   "execution_count": null,
   "id": "00479bee",
   "metadata": {},
   "outputs": [],
   "source": [
    "# request all locations\n",
    "locations = actinia_mundialis.get_locations()\n",
    "print_dict_keys(locations, \"Locations: \")"
   ]
  },
  {
   "cell_type": "markdown",
   "id": "06c6fdd7",
   "metadata": {},
   "source": [
    "### Synchronous process chain validation\n",
    "\n",
    "Why validation? It may happen that your JSON file to be sent to the endpoint contains a typo or other invalid content. For the identification of problems prior to executing the commands contained in the JSON file (which may last for hours), it is recommended to validate this file. For this, actinia can be used as it provides a validation endpoint.\n",
    "\n",
    "In case of synchronous process chain validation we will wait until the validation job has finished."
   ]
  },
  {
   "cell_type": "code",
   "execution_count": null,
   "id": "8b78f76c",
   "metadata": {},
   "outputs": [],
   "source": [
    "pc = {\n",
    "    \"list\": [\n",
    "      {\n",
    "          \"id\": \"r_mapcalc\",\n",
    "          \"module\": \"r.mapcalc\",\n",
    "          \"inputs\": [\n",
    "              {\n",
    "                  \"param\": \"expression\",\n",
    "                  \"value\": \"baum=42\"\n",
    "              }\n",
    "          ]\n",
    "      },\n",
    "      {\n",
    "          \"id\": \"exporter_1\",\n",
    "          \"module\": \"exporter\",\n",
    "          \"outputs\": [\n",
    "              {\n",
    "                  \"export\": {\"type\": \"raster\", \"format\": \"COG\"},\n",
    "                  \"param\": \"map\",\n",
    "                  \"value\": \"baum\"\n",
    "              }\n",
    "          ]\n",
    "      }\n",
    "    ],\n",
    "    \"version\": \"1\"\n",
    "}\n",
    "\n",
    "actinia_mundialis.locations[\"nc_spm_08\"].validate_process_chain_sync(pc)"
   ]
  },
  {
   "cell_type": "markdown",
   "id": "abb5287c",
   "metadata": {},
   "source": [
    "### Asynchronous process chain validation\n",
    "\n",
    "In case of asynchronous process chain validation we have to poll (repeatedly check) until the validation job has finished."
   ]
  },
  {
   "cell_type": "code",
   "execution_count": null,
   "id": "abd61c4e",
   "metadata": {},
   "outputs": [],
   "source": [
    "pc = {\n",
    "    \"list\": [\n",
    "      {\n",
    "          \"id\": \"r_mapcalc\",\n",
    "          \"module\": \"r.mapcalc\",\n",
    "          \"inputs\": [\n",
    "              {\n",
    "                  \"param\": \"expression\",\n",
    "                  \"value\": \"baum=42\"\n",
    "              }\n",
    "          ]\n",
    "      },\n",
    "      {\n",
    "          \"id\": \"exporter_1\",\n",
    "          \"module\": \"exporter\",\n",
    "          \"outputs\": [\n",
    "              {\n",
    "                  \"export\": {\"type\": \"raster\", \"format\": \"COG\"},\n",
    "                  \"param\": \"map\",\n",
    "                  \"value\": \"baum\"\n",
    "              }\n",
    "          ]\n",
    "      }\n",
    "    ],\n",
    "    \"version\": \"1\"\n",
    "}\n",
    "\n",
    "val_job = actinia_mundialis.locations[\"nc_spm_08\"].validate_process_chain_async(pc, \"r.mapcalc\")\n",
    "val_job.poll_until_finished()\n",
    "print(val_job.status)\n",
    "print(val_job.message)"
   ]
  },
  {
   "cell_type": "markdown",
   "id": "ddfc5756",
   "metadata": {},
   "source": [
    "## Processing\n",
    "\n",
    "We recommend to start a processing job with a valid process chain (see above).\n",
    "\n",
    "For running a processing job, first connect the Jupyter session through the actinia Python client with the [actinia](https://actinia.mundialis.de/) server and set the authentication properly."
   ]
  },
  {
   "cell_type": "code",
   "execution_count": null,
   "id": "38019db8",
   "metadata": {},
   "outputs": [],
   "source": [
    "from actinia import Actinia\n",
    "\n",
    "actinia_mundialis = Actinia()\n",
    "actinia_mundialis.get_version()\n",
    "actinia_mundialis.set_authentication(\"demouser\", \"gu3st!pa55w0rd\")\n",
    "\n",
    "# request all locations\n",
    "locations = actinia_mundialis.get_locations()"
   ]
  },
  {
   "cell_type": "markdown",
   "id": "121978cc",
   "metadata": {},
   "source": [
    "### Ephemeral Processing\n",
    "\n",
    "**Ephemeral processing** is used to keep computed results, including user-generated data and temporary data, only for a limited period of time (e.g. 24 hours by default in the actinia demo server). This reduces cloud storage costs.\n",
    "\n",
    "In contrast, **persistent processing** refers to the persistent retention of data without a scheduled deletion time, even in the event of a power outage, resulting in corresponding storage costs. In the geo/EO context, persistent storage is used to provide, for example, basic cartography, i.e. elevation models, road networks, building footprints, etc.\n",
    "\n",
    "Here an example for an ephemeral processing job: We use [r.relief](https://grass.osgeo.org/grass-stable/manuals/r.relief.html) to generate a hillshading map and pre-define the resolution to 10 m. The computational region is set to the input elevation map. The resulting `hillshade.tif` raster map is then provided as a resource for download."
   ]
  },
  {
   "cell_type": "code",
   "execution_count": null,
   "id": "1f23711d",
   "metadata": {},
   "outputs": [],
   "source": [
    "pc = {\n",
    "    \"list\": [\n",
    "        {\n",
    "             \"id\": \"computational_region\",\n",
    "             \"module\": \"g.region\",\n",
    "             \"inputs\": [\n",
    "                 {\"param\": \"raster\",\n",
    "                  \"value\": \"elevation@PERMANENT\"},\n",
    "                 {\"param\": \"res\",\n",
    "                  \"value\": \"10\"}\n",
    "             ],\n",
    "             \"stdout\": {\"id\": \"region\", \"format\": \"kv\", \"delimiter\": \"=\"},\n",
    "             \"flags\": \"g\"\n",
    "         },\n",
    "        {\n",
    "          \"id\": \"create_hillshading\",\n",
    "          \"module\": \"r.relief\",\n",
    "          \"inputs\": [\n",
    "              {\n",
    "                  \"param\": \"input\",\n",
    "                  \"value\": \"elevation\"\n",
    "              }\n",
    "          ],\n",
    "          \"outputs\": [\n",
    "              {\n",
    "                  \"param\": \"output\",\n",
    "                  \"value\": \"hillshade\"\n",
    "              }\n",
    "          ]\n",
    "      },\n",
    "      {\n",
    "          \"id\": \"exporter_1\",\n",
    "          \"module\": \"exporter\",\n",
    "          \"outputs\": [\n",
    "              {\n",
    "                  \"export\": {\"type\": \"raster\", \"format\": \"COG\"},\n",
    "                  \"param\": \"map\",\n",
    "                  \"value\": \"hillshade\"\n",
    "              }\n",
    "          ]\n",
    "      }\n",
    "    ],\n",
    "    \"version\": \"1\"\n",
    "}\n",
    "job = actinia_mundialis.locations[\"nc_spm_08\"].create_processing_export_job(pc, \"hillshading\")\n",
    "job.poll_until_finished()\n",
    "\n",
    "print(job.status)\n",
    "print(job.message)\n",
    "exported_raster = job.urls[\"resources\"][0]\n",
    "print(exported_raster)"
   ]
  },
  {
   "cell_type": "markdown",
   "id": "afaf243d",
   "metadata": {},
   "source": [
    "The computed `hillshade.tif` output map should look as follows:\n",
    "\n",
    "<center>\n",
    "<img src=\"img/nc_hillshade.png\" width=\"50%\">\n",
    "Fig: Hillshade map computed from elevation map.\n",
    "</center>"
   ]
  }
 ],
 "metadata": {
  "kernelspec": {
   "display_name": "Python 3 (ipykernel)",
   "language": "python",
   "name": "python3"
  },
  "language_info": {
   "codemirror_mode": {
    "name": "ipython",
    "version": 3
   },
   "file_extension": ".py",
   "mimetype": "text/x-python",
   "name": "python",
   "nbconvert_exporter": "python",
   "pygments_lexer": "ipython3",
   "version": "3.11.2"
  }
 },
 "nbformat": 4,
 "nbformat_minor": 5
}
