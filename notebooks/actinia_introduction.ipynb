{
 "cells": [
  {
   "cell_type": "markdown",
   "metadata": {},
   "source": [
    "![Image](actinia_logo.png)\n",
    "\n",
    "## Introduction\n",
    "\n",
    "Actinia is a REST service to process geographical data that can be\n",
    "managed by the GRASS GIS software system. The software is designed to\n",
    "expose a GRASS GIS database and many [GRASS GIS](https://grass.osgeo.org/) processing tools as a\n",
    "[REST service](https://en.wikipedia.org/wiki/Representational_State_Transfer).\n",
    "Hence, access to GRASS resources like raster maps,\n",
    "space-time raster datasets, processing and analysis modules are\n",
    "available via URL. In addition, actinia allows the cloud based processing\n",
    "of data, for example all Landsat 4-8 scenes as well as all\n",
    "Sentinel-2 scenes in an ephemeral database. The computational results\n",
    "of ephemeral processing are available via object storage as GeoTIFF/COG\n",
    "or GeoPackage files.\n",
    "\n",
    "The actinia service consists of the *[actinia core](https://github.com/actinia-org/actinia-core)*\n",
    "that provides the basic but sophisticated processing service and\n",
    "*[actinia plugins](https://github.com/orgs/mundialis/repositories?q=actinia+plugins&type=all&language=&sort=)*\n",
    "that provide problem specific services like NDVI computation from Sentinel-2\n",
    "or Landsat data, spatio-temporal statistical analysis and many more.\n",
    "\n",
    "The following example is a Jupyter Notebook version of the online\n",
    "[actinia tutorial](https://actinia-dev.mundialis.de/tutorial/introduction.html). "
   ]
  },
  {
   "cell_type": "markdown",
   "metadata": {},
   "source": [
    "### What is REST?\n",
    "\n",
    "The Representational state transfer ([REST](https://en.wikipedia.org/wiki/Representational_State_Transfer))\n",
    "is an architectural style based on [HTTP](https://en.wikipedia.org/wiki/Hypertext_Transfer_Protocol)\n",
    "that uses the [request methods](https://en.wikipedia.org/wiki/Hypertext_Transfer_Protocol#Request_methods)\n",
    "GET, DELETE, POST, and PUT to manipulate and receive resources with stateless operations.\n",
    "\n",
    "While GET requests can be send easily from a browser, POST, PUT or\n",
    "DELETE request can not. To access the full potential of actinia you will\n",
    "need a HTTP client, that talks all HTTP communication methods. Here we will\n",
    "use this Jupyter Notebook for this purpose."
   ]
  },
  {
   "cell_type": "markdown",
   "metadata": {},
   "source": [
    "---\n",
    "\n",
    "### actinia API documentation\n",
    "\n",
    "* [Stable actinia API v3 docs](https://redocly.github.io/redoc/?url=https://actinia.mundialis.de/api/v3/swagger.json)\n",
    "* [Development actinia API v3 docs](https://redocly.github.io/redoc/?url=https://actinia-dev.mundialis.de/api/v3/swagger.json)"
   ]
  },
  {
   "cell_type": "markdown",
   "metadata": {},
   "source": [
    "---\n",
    "\n",
    "### Requirements\n",
    "\n",
    "#### Software & Modules\n",
    "\n",
    "This tutorial assumes your are comfortable with the [Python](https://python.org) programming language. Familiarity with basic REST API concepts and usage is also assumed.\n",
    "\n",
    "Python modules used in this tutorial are:\n",
    "* [requests](http://docs.python-requests.org/)\n",
    "* [json](https://docs.python.org/3/library/json.html)\n",
    "\n",
    "\n",
    "#### Actinia API user and password\n",
    "\n",
    "This demo requires credentials for authentication set below in **Preparation** as a variable. Another actinia instance might require different credentials."
   ]
  },
  {
   "cell_type": "markdown",
   "metadata": {},
   "source": [
    "### Helper Modules and Functions\n",
    "Before interacting with the actinia server using Python, we will import required packages an set up a helper function to print formatted JSON using json.\n",
    "\n",
    "***Note:*** *You may need to install two helpful browser plugins called **RESTman** and **JSON Formatter** that format JSON and makes it easier to read:*\n",
    "\n",
    "* [RESTman extension](https://chrome.google.com/webstore/detail/restman/ihgpcfpkpmdcghlnaofdmjkoemnlijdi)\n",
    "* [JSON Formatter](https://chrome.google.com/webstore/detail/json-formatter/bcjindcccaagfpapjjmafapmmgkkhgoa)"
   ]
  },
  {
   "cell_type": "markdown",
   "metadata": {},
   "source": [
    "## Preparation\n"
   ]
  },
  {
   "cell_type": "code",
   "execution_count": null,
   "metadata": {},
   "outputs": [],
   "source": [
    "# first, let's import the required packages.\n",
    "\n",
    "from pprint import pprint\n",
    "import sys\n",
    "import json\n",
    "import time\n",
    "\n",
    "import requests\n",
    "from requests.auth import HTTPBasicAuth\n"
   ]
  },
  {
   "cell_type": "markdown",
   "metadata": {
    "scrolled": true
   },
   "source": [
    "To simplify our life in terms of server communication we store the credentials and REST server URL in  variables."
   ]
  },
  {
   "cell_type": "code",
   "execution_count": null,
   "metadata": {},
   "outputs": [],
   "source": [
    "# variables to set the actinia host, version, and user\n",
    "\n",
    "actinia_baseurl = \"https://actinia.mundialis.de\"\n",
    "actinia_version = \"v3\"\n",
    "actinia_url = actinia_baseurl + \"/api/\" + actinia_version\n",
    "actinia_auth = HTTPBasicAuth('demouser', 'gu3st!pa55w0rd')"
   ]
  },
  {
   "cell_type": "code",
   "execution_count": null,
   "metadata": {},
   "outputs": [],
   "source": [
    "# helper function to print formatted JSON using the json module\n",
    "\n",
    "def print_as_json(data):\n",
    "    print(json.dumps(data, indent=2))\n",
    "\n",
    "# helper function to verify a request\n",
    "def verify_request(request, success_code=200):\n",
    "    if request.status_code != success_code:\n",
    "        print(\"ERROR: actinia processing failed with status code %d!\" % request.status_code)\n",
    "        print(\"See errors below:\")\n",
    "        print_as_json(request.json())\n",
    "        request_url = request.json()[\"urls\"][\"status\"]\n",
    "        requests.delete(url=request_url, auth=actinia_auth)\n",
    "        raise Exception(\"The resource <%s> has been terminated.\" % request_url)"
   ]
  },
  {
   "cell_type": "markdown",
   "metadata": {},
   "source": [
    "## Examples\n",
    "\n",
    "* Data management\n",
    "* Landsat and Sentinel-2 NDVI computation"
   ]
  },
  {
   "cell_type": "markdown",
   "metadata": {},
   "source": [
    "### Data management\n",
    "\n",
    "List all locations that are available in the actinia persistent database:"
   ]
  },
  {
   "cell_type": "code",
   "execution_count": null,
   "metadata": {},
   "outputs": [],
   "source": [
    "# make a GET request to the actinia data API\n",
    "request_url = actinia_url + \"/locations\"\n",
    "print(\"actinia GET request:\")\n",
    "print(request_url)\n",
    "print(\"---\")\n",
    "request = requests.get(url=request_url, auth=actinia_auth)\n",
    "\n",
    "# check if anything went wrong\n",
    "verify_request(request, 200)\n",
    "\n",
    "# get a json-encoded content of the response\n",
    "jsonResponse = request.json()\n",
    "\n",
    "print(\"Available locations:\")\n",
    "\n",
    "# print formatted JSON\n",
    "print_as_json(jsonResponse)"
   ]
  },
  {
   "cell_type": "markdown",
   "metadata": {},
   "source": [
    "#### List mapsets in locations\n",
    "\n",
    "Next, we look at so-called **\"mapsets\"** which are subfolders in a location (just to better organise the geospatial data).\n",
    "\n",
    "List all **mapsets** inside the location `nc_spm_08`:"
   ]
  },
  {
   "cell_type": "code",
   "execution_count": null,
   "metadata": {},
   "outputs": [],
   "source": [
    "# make a GET request to the actinia data API\n",
    "request_url = actinia_url + \"/locations/nc_spm_08/mapsets\"\n",
    "print(\"actinia GET request:\")\n",
    "print(request_url)\n",
    "print(\"---\")\n",
    "request = requests.get(url=request_url, auth=actinia_auth)\n",
    "\n",
    "# check if anything went wrong\n",
    "verify_request(request, 200)\n",
    "\n",
    "# get a json-encoded content of the response\n",
    "jsonResponse = request.json()\n",
    "\n",
    "print(\"Mapsets in nc_spm_08 location:\")\n",
    "\n",
    "# print formatted JSON\n",
    "print_as_json(jsonResponse[\"process_results\"])"
   ]
  },
  {
   "cell_type": "markdown",
   "metadata": {},
   "source": [
    "Now list all **mapsets** inside the location `latlong_wgs84`:"
   ]
  },
  {
   "cell_type": "code",
   "execution_count": null,
   "metadata": {},
   "outputs": [],
   "source": [
    "# make a GET request to the actinia data API\n",
    "request_url = actinia_url + \"/locations/latlong_wgs84/mapsets\"\n",
    "print(\"actinia GET request:\")\n",
    "print(request_url)\n",
    "print(\"---\")\n",
    "request = requests.get(url=request_url, auth=actinia_auth)\n",
    "\n",
    "# check if anything went wrong\n",
    "verify_request(request, 200)\n",
    "\n",
    "# get a json-encoded content of the response\n",
    "jsonResponse = request.json()\n",
    "\n",
    "print(\"Mapsets in latlong_wgs84 location:\")\n",
    "\n",
    "# print formatted JSON\n",
    "print_as_json(jsonResponse[\"process_results\"])"
   ]
  },
  {
   "cell_type": "markdown",
   "metadata": {},
   "source": [
    "#### List contents of a mapset\n",
    "\n",
    "List all **raster layers** in location `latlong_wgs84` and mapset `Sentinel2A`:"
   ]
  },
  {
   "cell_type": "code",
   "execution_count": null,
   "metadata": {},
   "outputs": [],
   "source": [
    "# make a GET request to the actinia data API\n",
    "request_url = actinia_url + \"/locations/latlong_wgs84/mapsets/Sentinel2A/raster_layers\"\n",
    "print(\"actinia GET request:\")\n",
    "print(request_url)\n",
    "print(\"---\")\n",
    "request = requests.get(url=request_url, auth=actinia_auth)\n",
    "\n",
    "# check if anything went wrong\n",
    "verify_request(request, 200)\n",
    "\n",
    "# get a json-encoded content of the response\n",
    "jsonResponse = request.json()\n",
    "\n",
    "print(\"Raster layers in mapset Sentinel2A of location latlong_wgs84:\")\n",
    "\n",
    "# print formatted JSON\n",
    "print_as_json(jsonResponse[\"process_results\"])"
   ]
  },
  {
   "cell_type": "markdown",
   "metadata": {},
   "source": [
    "List all **space-time raster datasets (STRDS)** in location `ECAD` and mapset `PERMANENT`:"
   ]
  },
  {
   "cell_type": "code",
   "execution_count": null,
   "metadata": {},
   "outputs": [],
   "source": [
    "# make a GET request to the actinia data API\n",
    "request_url = actinia_url + \"/locations/ECAD/mapsets/PERMANENT/strds\"\n",
    "print(\"actinia GET request:\")\n",
    "print(request_url)\n",
    "print(\"---\")\n",
    "request = requests.get(url=request_url, auth=actinia_auth)\n",
    "\n",
    "# check if anything went wrong\n",
    "verify_request(request, 200)\n",
    "\n",
    "# get a json-encoded content of the response\n",
    "jsonResponse = request.json()\n",
    "\n",
    "print(\"Space-time raster datasets (STRDS) in location ECAD and mapset PERMANENT:\")\n",
    "\n",
    "# print formatted JSON\n",
    "print_as_json(jsonResponse[\"process_results\"])"
   ]
  },
  {
   "cell_type": "markdown",
   "metadata": {},
   "source": [
    "List all **raster map layers of the STRDS** precipitation_1950_2013_yearly_mm:"
   ]
  },
  {
   "cell_type": "code",
   "execution_count": null,
   "metadata": {},
   "outputs": [],
   "source": [
    "# make a GET request to the actinia data API\n",
    "request_url = actinia_url + \"/locations/ECAD/mapsets/PERMANENT/strds/precipitation_1950_2013_yearly_mm/raster_layers\"\n",
    "print(\"actinia GET request:\")\n",
    "print(request_url)\n",
    "print(\"---\")\n",
    "request = requests.get(url=request_url, auth=actinia_auth)\n",
    "\n",
    "# check if anything went wrong\n",
    "verify_request(request, 200)\n",
    "\n",
    "# get a json-encoded content of the response\n",
    "jsonResponse = request.json()\n",
    "\n",
    "print(\"Raster map layers of the STRDS precipitation_1950_2013_yearly_mm:\")\n",
    "\n",
    "# print formatted JSON\n",
    "raster_layers = [i[\"id\"] for i in jsonResponse[\"process_results\"]]\n",
    "print_as_json(raster_layers)"
   ]
  },
  {
   "cell_type": "markdown",
   "metadata": {},
   "source": [
    "---\n",
    "\n",
    "### Landsat and Sentinel-2 NDVI computation\n",
    "\n",
    "This API call will compute the NDVI of the top of atmospheric corrected (TOAR) Landsat-4 scene LC80440342016259LGN00:"
   ]
  },
  {
   "cell_type": "code",
   "execution_count": null,
   "metadata": {},
   "outputs": [],
   "source": [
    "# make a POST request to the actinia data API\n",
    "request_url = actinia_url + \"/landsat_process/LC80440342016259LGN00/TOAR/NDVI\"\n",
    "print(\"actinia POST request:\")\n",
    "print(request_url)\n",
    "print(\"---\")\n",
    "request = requests.post(url=request_url, auth=actinia_auth)\n",
    "\n",
    "# check if anything went wrong\n",
    "verify_request(request, 200)\n",
    "\n",
    "# get a json-encoded content of the response\n",
    "jsonResponse = request.json()\n",
    "\n",
    "print(\"Waiting for the process to finish...\\n\")\n",
    "\n",
    "if jsonResponse[\"status\"] in (\"accepted\", \"running\"):\n",
    "    # poll the resource until status has changed\n",
    "    request_url = jsonResponse[\"urls\"][\"status\"]\n",
    "    request = requests.get(url=request_url, auth=actinia_auth)\n",
    "    jsonResponse = request.json()\n",
    "\n",
    "    while jsonResponse[\"status\"] in (\"accepted\", \"running\"):\n",
    "        time.sleep(1)\n",
    "        jsonResponse = request.json()\n",
    "\n",
    "    # check if anything went wrong\n",
    "    verify_request(request, 200)\n",
    "\n",
    "    print(\"NDVI of the top of atmospheric corrected (TOAR) Landsat-4 scene LC80440342016259LGN00:\")\n",
    "    # print formatted JSON\n",
    "    print_as_json(jsonResponse)"
   ]
  },
  {
   "cell_type": "markdown",
   "metadata": {},
   "source": [
    "NDVI computation of Sentinel-2 scene S2A_MSIL1C_20170212T104141_N0204_R008_T31TGJ_20170212T104138:"
   ]
  },
  {
   "cell_type": "code",
   "execution_count": null,
   "metadata": {},
   "outputs": [],
   "source": [
    "# make a POST request to the actinia data API\n",
    "request_url = actinia_url + \"/sentinel2_process/ndvi/S2A_MSIL1C_20170212T104141_N0204_R008_T31TGJ_20170212T104138\"\n",
    "print(\"actinia POST request:\")\n",
    "print(request_url)\n",
    "print(\"---\")\n",
    "request = requests.post(url=request_url, auth=actinia_auth)\n",
    "\n",
    "# check if anything went wrong\n",
    "verify_request(request, 200)\n",
    "\n",
    "# get a json-encoded content of the response\n",
    "jsonResponse = request.json()\n",
    "\n",
    "print(\"Waiting for the process to finish...\\n\")\n",
    "\n",
    "if jsonResponse[\"status\"] in (\"accepted\", \"running\"):\n",
    "    # poll the resource until status has changed\n",
    "    request_url = jsonResponse[\"urls\"][\"status\"]\n",
    "    request = requests.get(url=request_url, auth=actinia_auth)\n",
    "    jsonResponse = request.json()\n",
    "\n",
    "    while jsonResponse[\"status\"] in (\"accepted\", \"running\"):\n",
    "        time.sleep(1)\n",
    "        jsonResponse = request.json()\n",
    "\n",
    "    # check if anything went wrong\n",
    "    verify_request(request, 200)\n",
    "\n",
    "    print(\"NDVI computation of Sentinel-2 scene S2A_MSIL1C_20170212T104141_N0204_R008_T31TGJ_20170212T104138:\")\n",
    "    # print formatted JSON\n",
    "    print_as_json(jsonResponse)"
   ]
  }
 ],
 "metadata": {
  "kernelspec": {
   "display_name": "Python 3",
   "language": "python",
   "name": "python3"
  },
  "language_info": {
   "codemirror_mode": {
    "name": "ipython",
    "version": 3
   },
   "file_extension": ".py",
   "mimetype": "text/x-python",
   "name": "python",
   "nbconvert_exporter": "python",
   "pygments_lexer": "ipython3",
   "version": "3.10.4"
  },
  "widgets": {
   "application/vnd.jupyter.widget-state+json": {
    "state": {},
    "version_major": 2,
    "version_minor": 0
   }
  }
 },
 "nbformat": 4,
 "nbformat_minor": 5
}
